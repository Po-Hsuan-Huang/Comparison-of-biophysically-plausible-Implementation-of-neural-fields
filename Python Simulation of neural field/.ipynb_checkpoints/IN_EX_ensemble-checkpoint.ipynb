{
 "cells": [
  {
   "cell_type": "markdown",
   "metadata": {},
   "source": [
    " the code is copy from NEST by example: an introduction to the neural simulation tool NEST\n",
    " Marc-Oliver Gewaltig and Abigail Morrison and Hans Ekkehard Ple\n",
    " \n",
    " "
   ]
  },
  {
   "cell_type": "code",
   "execution_count": 8,
   "metadata": {
    "collapsed": false
   },
   "outputs": [],
   "source": [
    "\n",
    "sser \n",
    "\n",
    "import nest\n",
    "import nest.voltage_trace\n",
    "import pylab\n",
    "neuron = nest.Create(\"iaf_neuron\")\n",
    "g = 50\n",
    "eta = 20\n",
    "delay = 1.5\n",
    "tau_m = 20\n",
    "V_th =20\n",
    "N_E = 80\n",
    "I_E  =20\n",
    "N_Neurons = N_E + N_I\n",
    "C_E = N_E/10\n",
    "N_I = N_I/10\n",
    "J_E = 0.1\n",
    "JI =-g*J_E\n",
    "nu_ex = eta*V_th/(J_E*C_E*tau_m)\n",
    "p_rate = 1000.0*nu_ex*C_E\n"
   ]
  },
  {
   "cell_type": "code",
   "execution_count": null,
   "metadata": {
    "collapsed": true
   },
   "outputs": [],
   "source": [
    "nodes = nest.Create('iaf_psc_delta', N_neurons)\n",
    "nodes_E= nodes[:N_E]\n",
    "nodes_I= nodes[N_E:]\n",
    "nest.CopyModel ( \"static_synapse_hom_wd\", \"excitatory\", {\"weight\":J_E,\"delay\":delay })\n",
    "               \n",
    "nest.RandomConvergentConnect( nodes_E, nodes, C_E,model= \"excitatory\" ) \n",
    "                              \n",
    "nest.CopyModel (\"static_synapse_hom_wd\", \"inhibitory\", { \"weight\" : J_I ,\"delay\": delay })\n",
    "                              \n",
    "nest.RandomConvergentConnect(nodes_I, nodes, C_I,model= ’ inhibitory ’ )"
   ]
  },
  {
   "cell_type": "code",
   "execution_count": 18,
   "metadata": {
    "collapsed": false
   },
   "outputs": [
    {
     "name": "stdout",
     "output_type": "stream",
     "text": [
      "hello, world\n"
     ]
    }
   ],
   "source": [
    "print\"hello, world\""
   ]
  },
  {
   "cell_type": "code",
   "execution_count": null,
   "metadata": {
    "collapsed": true
   },
   "outputs": [],
   "source": []
  }
 ],
 "metadata": {
  "kernelspec": {
   "display_name": "Python 2",
   "language": "python",
   "name": "python2"
  },
  "language_info": {
   "codemirror_mode": {
    "name": "ipython",
    "version": 2
   },
   "file_extension": ".py",
   "mimetype": "text/x-python",
   "name": "python",
   "nbconvert_exporter": "python",
   "pygments_lexer": "ipython2",
   "version": "2.7.10"
  }
 },
 "nbformat": 4,
 "nbformat_minor": 0
}
