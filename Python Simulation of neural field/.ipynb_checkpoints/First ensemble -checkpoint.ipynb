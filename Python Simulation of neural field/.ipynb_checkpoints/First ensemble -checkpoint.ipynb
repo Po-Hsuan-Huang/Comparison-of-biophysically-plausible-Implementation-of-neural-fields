{
 "cells": [
  {
   "cell_type": "code",
   "execution_count": 8,
   "metadata": {
    "collapsed": false
   },
   "outputs": [],
   "source": [
    "\n",
    "# the code is copy from NEST by example: an introduction to the neural simulation tool NEST\n",
    "# Marc-Oliver Gewaltig and Abigail Morrison and Hans Ekkehard Plesser \n",
    "\n",
    "import nest\n",
    "import nest.voltage_trace\n",
    "import pylab\n",
    "neuron = nest.Create(\"iaf_neuron\")\n",
    "g = 50\n",
    "eta = 20\n",
    "delay = 1.5\n",
    "tau_m = 20\n",
    "V_th =20\n",
    "N_E = 80\n",
    "I_E  =20\n",
    "N_Neurons = N_E + N_I\n",
    "C_E = N_E/10\n",
    "N_I = N_I/10\n",
    "J_E = 0.1\n",
    "JI =-g*J_E\n",
    "nu_ex = eta*V_th/(J_E*C_E*tau_m)\n",
    "p_rate = 1000.0*nu_ex*C_E\n"
   ]
  },
  {
   "cell_type": "code",
   "execution_count": 17,
   "metadata": {
    "collapsed": false
   },
   "outputs": [
    {
     "ename": "NameError",
     "evalue": "name 'N_neurons' is not defined",
     "output_type": "error",
     "traceback": [
      "\u001b[0;31m---------------------------------------------------------------------------\u001b[0m",
      "\u001b[0;31mNameError\u001b[0m                                 Traceback (most recent call last)",
      "\u001b[0;32m<ipython-input-17-dc1b94c32e01>\u001b[0m in \u001b[0;36m<module>\u001b[0;34m()\u001b[0m\n\u001b[0;32m----> 1\u001b[0;31m \u001b[0mnodes\u001b[0m \u001b[0;34m=\u001b[0m \u001b[0mnest\u001b[0m\u001b[0;34m.\u001b[0m\u001b[0mCreate\u001b[0m\u001b[0;34m(\u001b[0m\u001b[0;34m'iaf_psc_delta'\u001b[0m\u001b[0;34m,\u001b[0m \u001b[0mN_neurons\u001b[0m\u001b[0;34m)\u001b[0m\u001b[0;34m\u001b[0m\u001b[0m\n\u001b[0m\u001b[1;32m      2\u001b[0m \u001b[0mnodes_E\u001b[0m\u001b[0;34m=\u001b[0m \u001b[0mnodes\u001b[0m\u001b[0;34m[\u001b[0m\u001b[0;34m:\u001b[0m\u001b[0mN_E\u001b[0m\u001b[0;34m]\u001b[0m\u001b[0;34m\u001b[0m\u001b[0m\n\u001b[1;32m      3\u001b[0m \u001b[0mnodes_I\u001b[0m\u001b[0;34m=\u001b[0m \u001b[0mnodes\u001b[0m\u001b[0;34m[\u001b[0m\u001b[0mN_E\u001b[0m\u001b[0;34m:\u001b[0m\u001b[0;34m]\u001b[0m\u001b[0;34m\u001b[0m\u001b[0m\n\u001b[1;32m      4\u001b[0m \u001b[0mnest\u001b[0m\u001b[0;34m.\u001b[0m\u001b[0mCopyModel\u001b[0m \u001b[0;34m(\u001b[0m \u001b[0;34m\"static_synapse_hom_wd\"\u001b[0m\u001b[0;34m,\u001b[0m \u001b[0;34m\"excitatory\"\u001b[0m\u001b[0;34m,\u001b[0m \u001b[0;34m{\u001b[0m\u001b[0;34m\"weight\"\u001b[0m\u001b[0;34m:\u001b[0m\u001b[0mJ_E\u001b[0m\u001b[0;34m,\u001b[0m\u001b[0;34m\"delay\"\u001b[0m\u001b[0;34m:\u001b[0m\u001b[0mdelay\u001b[0m \u001b[0;34m}\u001b[0m\u001b[0;34m)\u001b[0m\u001b[0;34m\u001b[0m\u001b[0m\n\u001b[1;32m      5\u001b[0m \u001b[0;34m\u001b[0m\u001b[0m\n",
      "\u001b[0;31mNameError\u001b[0m: name 'N_neurons' is not defined"
     ]
    }
   ],
   "source": [
    "nodes = nest.Create('iaf_psc_delta', N_neurons)\n",
    "nodes_E= nodes[:N_E]\n",
    "nodes_I= nodes[N_E:]\n",
    "nest.CopyModel ( \"static_synapse_hom_wd\", \"excitatory\", {\"weight\":J_E,\"delay\":delay })\n",
    "               \n",
    "nest.RandomConvergentConnect( nodes_E, nodes, C_E,model= \"excitatory\" ) \n",
    "                              \n",
    "nest.CopyModel (\"static_synapse_hom_wd\", \"inhibitory\", { \"weight\" : J_I ,\"delay\": delay })\n",
    "                              \n",
    "nest.RandomConvergentConnect(nodes_I, nodes, C_I,model=  \"inhibitory\" )"
   ]
  },
  {
   "cell_type": "code",
   "execution_count": null,
   "metadata": {
    "collapsed": true
   },
   "outputs": [],
   "source": [
    "\"hello, world\""
   ]
  }
 ],
 "metadata": {
  "kernelspec": {
   "display_name": "Python 2",
   "language": "python",
   "name": "python2"
  },
  "language_info": {
   "codemirror_mode": {
    "name": "ipython",
    "version": 2
   },
   "file_extension": ".py",
   "mimetype": "text/x-python",
   "name": "python",
   "nbconvert_exporter": "python",
   "pygments_lexer": "ipython2",
   "version": "2.7.10"
  }
 },
 "nbformat": 4,
 "nbformat_minor": 0
}
